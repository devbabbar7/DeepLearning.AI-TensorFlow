{
  "cells": [
    {
      "cell_type": "markdown",
      "metadata": {
        "id": "view-in-github",
        "colab_type": "text"
      },
      "source": [
        "<a href=\"https://colab.research.google.com/github/devbabbar7/DeepLearning.AI-TensorFlow/blob/main/Sequences%2C%20Time%20Series%20and%20Prediction/Using_a_multi_layer_LSTM_for_forecasting.ipynb\" target=\"_parent\"><img src=\"https://colab.research.google.com/assets/colab-badge.svg\" alt=\"Open In Colab\"/></a>"
      ]
    },
    {
      "cell_type": "markdown",
      "metadata": {
        "id": "T3Oukt1iAO3w"
      },
      "source": [
        "<a href=\"https://colab.research.google.com/github/https-deeplearning-ai/tensorflow-1-public/blob/main/C4/W3/ungraded_labs/C4_W3_Lab_2_LSTM.ipynb\" target=\"_parent\"><img src=\"https://colab.research.google.com/assets/colab-badge.svg\" alt=\"Open In Colab\"/></a>"
      ]
    },
    {
      "cell_type": "markdown",
      "metadata": {
        "id": "sV_nvXSQGJPK"
      },
      "source": [
        "# Using a multi-layer LSTM for forecasting\n",
        "\n",
        "In this lab, you will use the same RNN architecure in the first lab but will instead stack [LSTM](https://www.tensorflow.org/api_docs/python/tf/keras/layers/LSTM) layers instead of `SimpleRNN`."
      ]
    },
    {
      "cell_type": "markdown",
      "metadata": {
        "id": "3IMbAWETGOWD"
      },
      "source": [
        "## Imports"
      ]
    },
    {
      "cell_type": "code",
      "execution_count": 1,
      "metadata": {
        "id": "BOjujz601HcS"
      },
      "outputs": [],
      "source": [
        "import tensorflow as tf\n",
        "import numpy as np\n",
        "import matplotlib.pyplot as plt"
      ]
    },
    {
      "cell_type": "markdown",
      "metadata": {
        "id": "kD7RQQ0xGQVH"
      },
      "source": [
        "## Utilities"
      ]
    },
    {
      "cell_type": "code",
      "execution_count": 2,
      "metadata": {
        "id": "Zswl7jRtGzkk"
      },
      "outputs": [],
      "source": [
        "def plot_series(time, series, format=\"-\", start=0, end=None):\n",
        "    \"\"\"\n",
        "    Visualizes time series data\n",
        "\n",
        "    Args:\n",
        "      time (array of int) - contains the time steps\n",
        "      series (array of int) - contains the measurements for each time step\n",
        "      format - line style when plotting the graph\n",
        "      start - first time step to plot\n",
        "      end - last time step to plot\n",
        "    \"\"\"\n",
        "\n",
        "    # Setup dimensions of the graph figure\n",
        "    plt.figure(figsize=(10, 6))\n",
        "    \n",
        "    if type(series) is tuple:\n",
        "\n",
        "      for series_num in series:\n",
        "        # Plot the time series data\n",
        "        plt.plot(time[start:end], series_num[start:end], format)\n",
        "\n",
        "    else:\n",
        "      # Plot the time series data\n",
        "      plt.plot(time[start:end], series[start:end], format)\n",
        "\n",
        "    # Label the x-axis\n",
        "    plt.xlabel(\"Time\")\n",
        "\n",
        "    # Label the y-axis\n",
        "    plt.ylabel(\"Value\")\n",
        "\n",
        "    # Overlay a grid on the graph\n",
        "    plt.grid(True)\n",
        "\n",
        "    # Draw the graph on screen\n",
        "    plt.show()\n",
        "\n",
        "def trend(time, slope=0):\n",
        "    \"\"\"\n",
        "    Generates synthetic data that follows a straight line given a slope value.\n",
        "\n",
        "    Args:\n",
        "      time (array of int) - contains the time steps\n",
        "      slope (float) - determines the direction and steepness of the line\n",
        "\n",
        "    Returns:\n",
        "      series (array of float) - measurements that follow a straight line\n",
        "    \"\"\"\n",
        "\n",
        "    # Compute the linear series given the slope\n",
        "    series = slope * time\n",
        "\n",
        "    return series\n",
        "\n",
        "def seasonal_pattern(season_time):\n",
        "    \"\"\"\n",
        "    Just an arbitrary pattern, you can change it if you wish\n",
        "    \n",
        "    Args:\n",
        "      season_time (array of float) - contains the measurements per time step\n",
        "\n",
        "    Returns:\n",
        "      data_pattern (array of float) -  contains revised measurement values according \n",
        "                                  to the defined pattern\n",
        "    \"\"\"\n",
        "\n",
        "    # Generate the values using an arbitrary pattern\n",
        "    data_pattern = np.where(season_time < 0.4,\n",
        "                    np.cos(season_time * 2 * np.pi),\n",
        "                    1 / np.exp(3 * season_time))\n",
        "    \n",
        "    return data_pattern\n",
        "\n",
        "def seasonality(time, period, amplitude=1, phase=0):\n",
        "    \"\"\"\n",
        "    Repeats the same pattern at each period\n",
        "\n",
        "    Args:\n",
        "      time (array of int) - contains the time steps\n",
        "      period (int) - number of time steps before the pattern repeats\n",
        "      amplitude (int) - peak measured value in a period\n",
        "      phase (int) - number of time steps to shift the measured values\n",
        "\n",
        "    Returns:\n",
        "      data_pattern (array of float) - seasonal data scaled by the defined amplitude\n",
        "    \"\"\"\n",
        "    \n",
        "    # Define the measured values per period\n",
        "    season_time = ((time + phase) % period) / period\n",
        "\n",
        "    # Generates the seasonal data scaled by the defined amplitude\n",
        "    data_pattern = amplitude * seasonal_pattern(season_time)\n",
        "\n",
        "    return data_pattern\n",
        "\n",
        "def noise(time, noise_level=1, seed=None):\n",
        "    \"\"\"Generates a normally distributed noisy signal\n",
        "\n",
        "    Args:\n",
        "      time (array of int) - contains the time steps\n",
        "      noise_level (float) - scaling factor for the generated signal\n",
        "      seed (int) - number generator seed for repeatability\n",
        "\n",
        "    Returns:\n",
        "      noise (array of float) - the noisy signal\n",
        "    \"\"\"\n",
        "\n",
        "    # Initialize the random number generator\n",
        "    rnd = np.random.RandomState(seed)\n",
        "\n",
        "    # Generate a random number for each time step and scale by the noise level\n",
        "    noise = rnd.randn(len(time)) * noise_level\n",
        "    \n",
        "    return noise"
      ]
    },
    {
      "cell_type": "markdown",
      "metadata": {
        "id": "yxNyeFWjGSdj"
      },
      "source": [
        "## Generate the Synthetic Data"
      ]
    },
    {
      "cell_type": "code",
      "execution_count": 3,
      "metadata": {
        "id": "KYEUfDbdpHPm",
        "colab": {
          "base_uri": "https://localhost:8080/",
          "height": 542
        },
        "outputId": "f90836c3-2a74-403f-f30a-bbc65e5f86ee"
      },
      "outputs": [
        {
          "output_type": "display_data",
          "data": {
            "text/plain": [
              "<Figure size 1000x600 with 1 Axes>"
            ],
            "image/png": "[encoded data removed]"
          },
          "metadata": {}
        }
      ],
      "source": [
        "# Parameters\n",
        "time = np.arange(4 * 365 + 1, dtype=\"float32\")\n",
        "baseline = 10\n",
        "amplitude = 40\n",
        "slope = 0.05\n",
        "noise_level = 5\n",
        "\n",
        "# Create the series\n",
        "series = baseline + trend(time, slope) + seasonality(time, period=365, amplitude=amplitude)\n",
        "\n",
        "# Update with noise\n",
        "series += noise(time, noise_level, seed=42)\n",
        "\n",
        "# Plot the results\n",
        "plot_series(time, series)"
      ]
    },
    {
      "cell_type": "markdown",
      "metadata": {
        "id": "MYKCvv-eGWRc"
      },
      "source": [
        "## Split the Dataset"
      ]
    },
    {
      "cell_type": "code",
      "execution_count": 4,
      "metadata": {
        "id": "hpp0slenpKVD"
      },
      "outputs": [],
      "source": [
        "# Define the split time\n",
        "split_time = 1000\n",
        "\n",
        "# Get the train set \n",
        "time_train = time[:split_time]\n",
        "x_train = series[:split_time]\n",
        "\n",
        "# Get the validation set\n",
        "time_valid = time[split_time:]\n",
        "x_valid = series[split_time:]"
      ]
    },
    {
      "cell_type": "markdown",
      "metadata": {
        "id": "cktHz9aOGYtV"
      },
      "source": [
        "## Prepare Features and Labels"
      ]
    },
    {
      "cell_type": "code",
      "execution_count": 5,
      "metadata": {
        "id": "G_j_2_Mqwn7-"
      },
      "outputs": [],
      "source": [
        "# Parameters\n",
        "window_size = 20\n",
        "batch_size = 32\n",
        "shuffle_buffer_size = 1000"
      ]
    },
    {
      "cell_type": "code",
      "execution_count": 6,
      "metadata": {
        "id": "4sTTIOCbyShY"
      },
      "outputs": [],
      "source": [
        "def windowed_dataset(series, window_size, batch_size, shuffle_buffer):\n",
        "    \"\"\"Generates dataset windows\n",
        "\n",
        "    Args:\n",
        "      series (array of float) - contains the values of the time series\n",
        "      window_size (int) - the number of time steps to include in the feature\n",
        "      batch_size (int) - the batch size\n",
        "      shuffle_buffer(int) - buffer size to use for the shuffle method\n",
        "\n",
        "    Returns:\n",
        "      dataset (TF Dataset) - TF Dataset containing time windows\n",
        "    \"\"\"\n",
        "  \n",
        "    # Generate a TF Dataset from the series values\n",
        "    dataset = tf.data.Dataset.from_tensor_slices(series)\n",
        "    \n",
        "    # Window the data but only take those with the specified size\n",
        "    dataset = dataset.window(window_size + 1, shift=1, drop_remainder=True)\n",
        "    \n",
        "    # Flatten the windows by putting its elements in a single batch\n",
        "    dataset = dataset.flat_map(lambda window: window.batch(window_size + 1))\n",
        "\n",
        "    # Create tuples with features and labels \n",
        "    dataset = dataset.map(lambda window: (window[:-1], window[-1]))\n",
        "\n",
        "    # Shuffle the windows\n",
        "    dataset = dataset.shuffle(shuffle_buffer)\n",
        "    \n",
        "    # Create batches of windows\n",
        "    dataset = dataset.batch(batch_size).prefetch(1)\n",
        "    \n",
        "    return dataset"
      ]
    },
    {
      "cell_type": "code",
      "execution_count": 7,
      "metadata": {
        "id": "vGj5-InSwtQQ"
      },
      "outputs": [],
      "source": [
        "# Generate the dataset windows\n",
        "dataset = windowed_dataset(x_train, window_size, batch_size, shuffle_buffer_size)"
      ]
    },
    {
      "cell_type": "markdown",
      "metadata": {
        "id": "p9-Ke8ZaGcjd"
      },
      "source": [
        "## Build the Model\n",
        "\n",
        "As mentioned, you will swap `SimpleRNN` for `LSTM` in this lab. It is also set as bidirectional below but feel free to revise later and see what results you get. LSTMs are much more complex in their internal architecture than simpleRNNs. It implements a cell state that allows it to remember sequences better than simple implementations. This added complexity results in a bigger set of parameters to train and you'll see that when you print the model summary below."
      ]
    },
    {
      "cell_type": "code",
      "execution_count": 8,
      "metadata": {
        "id": "A1Hl39rklkLm",
        "colab": {
          "base_uri": "https://localhost:8080/"
        },
        "outputId": "9a60664f-e93f-4e20-e5a7-b8730e4f5e49"
      },
      "outputs": [
        {
          "output_type": "stream",
          "name": "stdout",
          "text": [
            "Model: \"sequential\"\n",
            "_________________________________________________________________\n",
            " Layer (type)                Output Shape              Param #   \n",
            "=================================================================\n",
            " lambda (Lambda)             (None, 20, 1)             0         \n",
            "                                                                 \n",
            " bidirectional (Bidirectiona  (None, 20, 64)           8704      \n",
            " l)                                                              \n",
            "                                                                 \n",
            " bidirectional_1 (Bidirectio  (None, 64)               24832     \n",
            " nal)                                                            \n",
            "                                                                 \n",
            " dense (Dense)               (None, 1)                 65        \n",
            "                                                                 \n",
            " lambda_1 (Lambda)           (None, 1)                 0         \n",
            "                                                                 \n",
            "=================================================================\n",
            "Total params: 33,601\n",
            "Trainable params: 33,601\n",
            "Non-trainable params: 0\n",
            "_________________________________________________________________\n"
          ]
        }
      ],
      "source": [
        "# Build the Model\n",
        "model_tune = tf.keras.models.Sequential([\n",
        "  tf.keras.layers.Lambda(lambda x: tf.expand_dims(x, axis=-1),\n",
        "                      input_shape=[window_size]),\n",
        "    tf.keras.layers.Bidirectional(tf.keras.layers.LSTM(32, return_sequences=True)),\n",
        "  tf.keras.layers.Bidirectional(tf.keras.layers.LSTM(32)),\n",
        "  tf.keras.layers.Dense(1),\n",
        "  tf.keras.layers.Lambda(lambda x: x * 100.0)\n",
        "])\n",
        "\n",
        "# Print the model summary\n",
        "model_tune.summary()"
      ]
    },
    {
      "cell_type": "markdown",
      "metadata": {
        "id": "FHaFblbwq0GV"
      },
      "source": [
        "## Tune the Learning Rate\n",
        "\n",
        "As usual, you will pick a learning rate by running the tuning code below."
      ]
    },
    {
      "cell_type": "code",
      "execution_count": 9,
      "metadata": {
        "id": "qE7al18qw48G",
        "colab": {
          "base_uri": "https://localhost:8080/"
        },
        "outputId": "9b54323a-017b-46e0-aedb-a02ad9541d00"
      },
      "outputs": [
        {
          "output_type": "stream",
          "name": "stdout",
          "text": [
            "Epoch 1/100\n",
            "31/31 [==============================] - 13s 35ms/step - loss: 79.3533 - lr: 1.0000e-08\n",
            "Epoch 2/100\n",
            "31/31 [==============================] - 1s 16ms/step - loss: 78.5690 - lr: 1.1220e-08\n",
            "Epoch 3/100\n",
            "31/31 [==============================] - 1s 18ms/step - loss: 77.6138 - lr: 1.2589e-08\n",
            "Epoch 4/100\n",
            "31/31 [==============================] - 1s 16ms/step - loss: 76.5424 - lr: 1.4125e-08\n",
            "Epoch 5/100\n",
            "31/31 [==============================] - 1s 19ms/step - loss: 75.3342 - lr: 1.5849e-08\n",
            "Epoch 6/100\n",
            "31/31 [==============================] - 1s 23ms/step - loss: 73.9753 - lr: 1.7783e-08\n",
            "Epoch 7/100\n",
            "31/31 [==============================] - 1s 18ms/step - loss: 72.4481 - lr: 1.9953e-08\n",
            "Epoch 8/100\n",
            "31/31 [==============================] - 1s 16ms/step - loss: 70.7294 - lr: 2.2387e-08\n",
            "Epoch 9/100\n",
            "31/31 [==============================] - 1s 15ms/step - loss: 68.7794 - lr: 2.5119e-08\n",
            "Epoch 10/100\n",
            "31/31 [==============================] - 1s 15ms/step - loss: 66.5987 - lr: 2.8184e-08\n",
            "Epoch 11/100\n",
            "31/31 [==============================] - 1s 14ms/step - loss: 64.1352 - lr: 3.1623e-08\n",
            "Epoch 12/100\n",
            "31/31 [==============================] - 1s 17ms/step - loss: 61.3528 - lr: 3.5481e-08\n",
            "Epoch 13/100\n",
            "31/31 [==============================] - 1s 15ms/step - loss: 58.2202 - lr: 3.9811e-08\n",
            "Epoch 14/100\n",
            "31/31 [==============================] - 1s 18ms/step - loss: 54.6746 - lr: 4.4668e-08\n",
            "Epoch 15/100\n",
            "31/31 [==============================] - 1s 18ms/step - loss: 50.6794 - lr: 5.0119e-08\n",
            "Epoch 16/100\n",
            "31/31 [==============================] - 0s 9ms/step - loss: 46.1622 - lr: 5.6234e-08\n",
            "Epoch 17/100\n",
            "31/31 [==============================] - 0s 9ms/step - loss: 41.1297 - lr: 6.3096e-08\n",
            "Epoch 18/100\n",
            "31/31 [==============================] - 0s 8ms/step - loss: 35.6304 - lr: 7.0795e-08\n",
            "Epoch 19/100\n",
            "31/31 [==============================] - 0s 8ms/step - loss: 30.0743 - lr: 7.9433e-08\n",
            "Epoch 20/100\n",
            "31/31 [==============================] - 0s 8ms/step - loss: 25.0244 - lr: 8.9125e-08\n",
            "Epoch 21/100\n",
            "31/31 [==============================] - 0s 8ms/step - loss: 21.6121 - lr: 1.0000e-07\n",
            "Epoch 22/100\n",
            "31/31 [==============================] - 0s 9ms/step - loss: 19.7427 - lr: 1.1220e-07\n",
            "Epoch 23/100\n",
            "31/31 [==============================] - 0s 9ms/step - loss: 18.5158 - lr: 1.2589e-07\n",
            "Epoch 24/100\n",
            "31/31 [==============================] - 1s 14ms/step - loss: 17.5913 - lr: 1.4125e-07\n",
            "Epoch 25/100\n",
            "31/31 [==============================] - 1s 12ms/step - loss: 16.3428 - lr: 1.7783e-07\n",
            "Epoch 27/100\n",
            "31/31 [==============================] - 1s 13ms/step - loss: 15.8751 - lr: 1.9953e-07\n",
            "Epoch 28/100\n",
            "31/31 [==============================] - 0s 8ms/step - loss: 15.3950 - lr: 2.2387e-07\n",
            "Epoch 29/100\n",
            "31/31 [==============================] - 0s 9ms/step - loss: 14.9024 - lr: 2.5119e-07\n",
            "Epoch 30/100\n",
            "31/31 [==============================] - 0s 8ms/step - loss: 14.4139 - lr: 2.8184e-07\n",
            "Epoch 31/100\n",
            "31/31 [==============================] - 0s 8ms/step - loss: 13.8998 - lr: 3.1623e-07\n",
            "Epoch 32/100\n",
            "31/31 [==============================] - 0s 8ms/step - loss: 13.3651 - lr: 3.5481e-07\n",
            "Epoch 33/100\n",
            "31/31 [==============================] - 0s 9ms/step - loss: 12.7932 - lr: 3.9811e-07\n",
            "Epoch 34/100\n",
            "31/31 [==============================] - 0s 9ms/step - loss: 12.1804 - lr: 4.4668e-07\n",
            "Epoch 35/100\n",
            "31/31 [==============================] - 0s 9ms/step - loss: 11.5161 - lr: 5.0119e-07\n",
            "Epoch 36/100\n",
            "31/31 [==============================] - 0s 9ms/step - loss: 10.7722 - lr: 5.6234e-07\n",
            "Epoch 37/100\n",
            "31/31 [==============================] - 0s 9ms/step - loss: 9.9726 - lr: 6.3096e-07\n",
            "Epoch 38/100\n",
            "31/31 [==============================] - 0s 8ms/step - loss: 9.1994 - lr: 7.0795e-07\n",
            "Epoch 39/100\n",
            "31/31 [==============================] - 0s 9ms/step - loss: 8.4498 - lr: 7.9433e-07\n",
            "Epoch 40/100\n",
            "31/31 [==============================] - 0s 8ms/step - loss: 7.8753 - lr: 8.9125e-07\n",
            "Epoch 41/100\n",
            "31/31 [==============================] - 0s 8ms/step - loss: 7.4530 - lr: 1.0000e-06\n",
            "Epoch 42/100\n",
            "31/31 [==============================] - 0s 8ms/step - loss: 7.1411 - lr: 1.1220e-06\n",
            "Epoch 43/100\n",
            "31/31 [==============================] - 0s 8ms/step - loss: 6.9441 - lr: 1.2589e-06\n",
            "Epoch 44/100\n",
            "31/31 [==============================] - 0s 9ms/step - loss: 6.8450 - lr: 1.4125e-06\n",
            "Epoch 45/100\n",
            "31/31 [==============================] - 0s 8ms/step - loss: 6.6968 - lr: 1.5849e-06\n",
            "Epoch 46/100\n",
            "31/31 [==============================] - 0s 8ms/step - loss: 6.5373 - lr: 1.7783e-06\n",
            "Epoch 47/100\n",
            "31/31 [==============================] - 0s 8ms/step - loss: 6.4538 - lr: 1.9953e-06\n",
            "Epoch 48/100\n",
            "31/31 [==============================] - 0s 9ms/step - loss: 6.3511 - lr: 2.2387e-06\n",
            "Epoch 49/100\n",
            "31/31 [==============================] - 0s 8ms/step - loss: 6.2355 - lr: 2.5119e-06\n",
            "Epoch 50/100\n",
            "31/31 [==============================] - 0s 8ms/step - loss: 6.1685 - lr: 2.8184e-06\n",
            "Epoch 51/100\n",
            "31/31 [==============================] - 0s 10ms/step - loss: 6.0507 - lr: 3.1623e-06\n",
            "Epoch 52/100\n",
            "31/31 [==============================] - 1s 12ms/step - loss: 6.0113 - lr: 3.5481e-06\n",
            "Epoch 53/100\n",
            "31/31 [==============================] - 1s 13ms/step - loss: 5.9764 - lr: 3.9811e-06\n",
            "Epoch 54/100\n",
            "31/31 [==============================] - 1s 13ms/step - loss: 5.7747 - lr: 4.4668e-06\n",
            "Epoch 55/100\n",
            "31/31 [==============================] - 0s 9ms/step - loss: 5.8413 - lr: 5.0119e-06\n",
            "Epoch 56/100\n",
            "31/31 [==============================] - 0s 9ms/step - loss: 5.6411 - lr: 5.6234e-06\n",
            "Epoch 57/100\n",
            "31/31 [==============================] - 0s 9ms/step - loss: 5.5824 - lr: 6.3096e-06\n",
            "Epoch 58/100\n",
            "31/31 [==============================] - 0s 9ms/step - loss: 5.6969 - lr: 7.0795e-06\n",
            "Epoch 59/100\n",
            "31/31 [==============================] - 0s 9ms/step - loss: 5.4975 - lr: 7.9433e-06\n",
            "Epoch 60/100\n",
            "31/31 [==============================] - 0s 9ms/step - loss: 5.7016 - lr: 8.9125e-06\n",
            "Epoch 61/100\n",
            "31/31 [==============================] - 0s 8ms/step - loss: 5.8922 - lr: 1.0000e-05\n",
            "Epoch 62/100\n",
            "31/31 [==============================] - 0s 9ms/step - loss: 5.1783 - lr: 1.1220e-05\n",
            "Epoch 63/100\n",
            "31/31 [==============================] - 0s 9ms/step - loss: 5.3377 - lr: 1.2589e-05\n",
            "Epoch 64/100\n",
            "31/31 [==============================] - 0s 8ms/step - loss: 5.1353 - lr: 1.4125e-05\n",
            "Epoch 65/100\n",
            "31/31 [==============================] - 0s 8ms/step - loss: 5.0752 - lr: 1.5849e-05\n",
            "Epoch 66/100\n",
            "31/31 [==============================] - 0s 8ms/step - loss: 6.2172 - lr: 1.7783e-05\n",
            "Epoch 67/100\n",
            "31/31 [==============================] - 0s 9ms/step - loss: 5.1646 - lr: 1.9953e-05\n",
            "Epoch 68/100\n",
            "31/31 [==============================] - 0s 8ms/step - loss: 5.1086 - lr: 2.2387e-05\n",
            "Epoch 69/100\n",
            "31/31 [==============================] - 0s 9ms/step - loss: 5.0884 - lr: 2.5119e-05\n",
            "Epoch 70/100\n",
            "31/31 [==============================] - 0s 8ms/step - loss: 5.3062 - lr: 2.8184e-05\n",
            "Epoch 71/100\n",
            "31/31 [==============================] - 0s 9ms/step - loss: 5.5935 - lr: 3.1623e-05\n",
            "Epoch 72/100\n",
            "31/31 [==============================] - 0s 9ms/step - loss: 5.3750 - lr: 3.5481e-05\n",
            "Epoch 73/100\n",
            "31/31 [==============================] - 0s 8ms/step - loss: 5.5281 - lr: 3.9811e-05\n",
            "Epoch 74/100\n",
            "31/31 [==============================] - 0s 8ms/step - loss: 6.9059 - lr: 4.4668e-05\n",
            "Epoch 75/100\n",
            "31/31 [==============================] - 0s 8ms/step - loss: 5.4461 - lr: 5.0119e-05\n",
            "Epoch 76/100\n",
            "31/31 [==============================] - 0s 8ms/step - loss: 5.1354 - lr: 5.6234e-05\n",
            "Epoch 77/100\n",
            "31/31 [==============================] - 0s 9ms/step - loss: 5.2281 - lr: 6.3096e-05\n",
            "Epoch 78/100\n",
            "31/31 [==============================] - 0s 10ms/step - loss: 6.4507 - lr: 7.0795e-05\n",
            "Epoch 79/100\n",
            "31/31 [==============================] - 1s 12ms/step - loss: 6.0861 - lr: 7.9433e-05\n",
            "Epoch 80/100\n",
            "31/31 [==============================] - 1s 12ms/step - loss: 10.0676 - lr: 8.9125e-05\n",
            "Epoch 81/100\n",
            "31/31 [==============================] - 1s 14ms/step - loss: 6.9323 - lr: 1.0000e-04\n",
            "Epoch 82/100\n",
            "31/31 [==============================] - 0s 10ms/step - loss: 8.0754 - lr: 1.1220e-04\n",
            "Epoch 83/100\n",
            "31/31 [==============================] - 0s 9ms/step - loss: 9.0997 - lr: 1.2589e-04\n",
            "Epoch 84/100\n",
            "31/31 [==============================] - 0s 8ms/step - loss: 7.4667 - lr: 1.4125e-04\n",
            "Epoch 85/100\n",
            "31/31 [==============================] - 0s 8ms/step - loss: 9.3282 - lr: 1.5849e-04\n",
            "Epoch 86/100\n",
            "31/31 [==============================] - 0s 8ms/step - loss: 6.7546 - lr: 1.7783e-04\n",
            "Epoch 87/100\n",
            "31/31 [==============================] - 0s 8ms/step - loss: 7.2348 - lr: 1.9953e-04\n",
            "Epoch 88/100\n",
            "31/31 [==============================] - 0s 9ms/step - loss: 9.8664 - lr: 2.2387e-04\n",
            "Epoch 89/100\n",
            "31/31 [==============================] - 0s 9ms/step - loss: 7.9375 - lr: 2.5119e-04\n",
            "Epoch 90/100\n",
            "31/31 [==============================] - 0s 9ms/step - loss: 6.4798 - lr: 2.8184e-04\n",
            "Epoch 91/100\n",
            "31/31 [==============================] - 0s 8ms/step - loss: 6.0371 - lr: 3.1623e-04\n",
            "Epoch 92/100\n",
            "31/31 [==============================] - 0s 8ms/step - loss: 9.9959 - lr: 3.5481e-04\n",
            "Epoch 93/100\n",
            "31/31 [==============================] - 0s 9ms/step - loss: 9.9174 - lr: 3.9811e-04\n",
            "Epoch 94/100\n",
            "31/31 [==============================] - 0s 9ms/step - loss: 8.4505 - lr: 4.4668e-04\n",
            "Epoch 95/100\n",
            "31/31 [==============================] - 0s 8ms/step - loss: 7.2342 - lr: 5.0119e-04\n",
            "Epoch 96/100\n",
            "31/31 [==============================] - 0s 8ms/step - loss: 8.4258 - lr: 5.6234e-04\n",
            "Epoch 97/100\n",
            "31/31 [==============================] - 0s 8ms/step - loss: 7.9876 - lr: 6.3096e-04\n",
            "Epoch 98/100\n",
            "31/31 [==============================] - 0s 9ms/step - loss: 9.4738 - lr: 7.0795e-04\n",
            "Epoch 99/100\n",
            "31/31 [==============================] - 0s 8ms/step - loss: 9.9730 - lr: 7.9433e-04\n",
            "Epoch 100/100\n",
            "31/31 [==============================] - 0s 8ms/step - loss: 9.7840 - lr: 8.9125e-04\n"
          ]
        }
      ],
      "source": [
        "# Set the learning rate scheduler\n",
        "lr_schedule = tf.keras.callbacks.LearningRateScheduler(\n",
        "    lambda epoch: 1e-8 * 10**(epoch / 20))\n",
        "\n",
        "# Initialize the optimizer\n",
        "optimizer = tf.keras.optimizers.SGD(momentum=0.9)\n",
        "\n",
        "# Set the training parameters\n",
        "model_tune.compile(loss=tf.keras.losses.Huber(), optimizer=optimizer)\n",
        "\n",
        "# Train the model\n",
        "history = model_tune.fit(dataset, epochs=100, callbacks=[lr_schedule])"
      ]
    },
    {
      "cell_type": "code",
      "execution_count": 10,
      "metadata": {
        "id": "AkBsrsXMzoWR",
        "colab": {
          "base_uri": "https://localhost:8080/",
          "height": 558
        },
        "outputId": "273f2a94-993a-4773-9154-69b45b9933ba"
      },
      "outputs": [
        {
          "output_type": "execute_result",
          "data": {
            "text/plain": [
              "(1e-08, 0.001, 0.0, 30.0)"
            ]
          },
          "metadata": {},
          "execution_count": 10
        },
        {
          "output_type": "display_data",
          "data": {
            "text/plain": [
              "<Figure size 1000x600 with 1 Axes>"
            ],
            "image/png": "[encoded data removed]"
          },
          "metadata": {}
        }
      ],
      "source": [
        "# Define the learning rate array\n",
        "lrs = 1e-8 * (10 ** (np.arange(100) / 20))\n",
        "\n",
        "# Set the figure size\n",
        "plt.figure(figsize=(10, 6))\n",
        "\n",
        "# Set the grid\n",
        "plt.grid(True)\n",
        "\n",
        "# Plot the loss in log scale\n",
        "plt.semilogx(lrs, history.history[\"loss\"])\n",
        "\n",
        "# Increase the tickmarks size\n",
        "plt.tick_params('both', length=10, width=1, which='both')\n",
        "\n",
        "# Set the plot boundaries\n",
        "plt.axis([1e-8, 1e-3, 0, 30])"
      ]
    },
    {
      "cell_type": "markdown",
      "metadata": {
        "id": "i-lKNp4pq_w8"
      },
      "source": [
        "## Train the Model\n",
        "\n",
        "You can then proceed to train the model with your chosen learning rate. \n",
        "\n",
        "*Tip: When experimenting and you find yourself running different iterations of a model, you may want to use the [`clear_session()`](https://www.tensorflow.org/api_docs/python/tf/keras/backend/clear_session) method to declutter memory used by Keras. This is added in the first line below.*\n"
      ]
    },
    {
      "cell_type": "code",
      "execution_count": 11,
      "metadata": {
        "id": "4uh-97bpLZCA",
        "colab": {
          "base_uri": "https://localhost:8080/"
        },
        "outputId": "a1e9730b-9b1b-4c81-a373-5159c5a07fc8"
      },
      "outputs": [
        {
          "output_type": "stream",
          "name": "stdout",
          "text": [
            "Epoch 1/100\n",
            "31/31 [==============================] - 7s 10ms/step - loss: 31.9599 - mae: 32.4557\n",
            "Epoch 2/100\n",
            "31/31 [==============================] - 0s 9ms/step - loss: 10.2642 - mae: 10.7541\n",
            "Epoch 3/100\n",
            "31/31 [==============================] - 0s 9ms/step - loss: 8.5899 - mae: 9.0723\n",
            "Epoch 4/100\n",
            "31/31 [==============================] - 0s 9ms/step - loss: 7.9496 - mae: 8.4330\n",
            "Epoch 5/100\n",
            "31/31 [==============================] - 0s 9ms/step - loss: 7.5309 - mae: 8.0139\n",
            "Epoch 6/100\n",
            "31/31 [==============================] - 0s 9ms/step - loss: 7.0886 - mae: 7.5703\n",
            "Epoch 7/100\n",
            "31/31 [==============================] - 0s 9ms/step - loss: 6.8025 - mae: 7.2825\n",
            "Epoch 8/100\n",
            "31/31 [==============================] - 0s 9ms/step - loss: 6.6129 - mae: 7.0903\n",
            "Epoch 9/100\n",
            "31/31 [==============================] - 0s 9ms/step - loss: 6.4156 - mae: 6.8923\n",
            "Epoch 10/100\n",
            "31/31 [==============================] - 0s 10ms/step - loss: 6.3069 - mae: 6.7845\n",
            "Epoch 11/100\n",
            "31/31 [==============================] - 0s 9ms/step - loss: 6.2110 - mae: 6.6898\n",
            "Epoch 12/100\n",
            "31/31 [==============================] - 0s 9ms/step - loss: 6.1011 - mae: 6.5792\n",
            "Epoch 13/100\n",
            "31/31 [==============================] - 1s 13ms/step - loss: 6.0572 - mae: 6.5335\n",
            "Epoch 14/100\n",
            "31/31 [==============================] - 1s 13ms/step - loss: 5.9678 - mae: 6.4463\n",
            "Epoch 15/100\n",
            "31/31 [==============================] - 1s 14ms/step - loss: 5.9579 - mae: 6.4393\n",
            "Epoch 16/100\n",
            "31/31 [==============================] - 1s 12ms/step - loss: 5.8535 - mae: 6.3313\n",
            "Epoch 17/100\n",
            "31/31 [==============================] - 0s 9ms/step - loss: 5.8454 - mae: 6.3238\n",
            "Epoch 18/100\n",
            "31/31 [==============================] - 0s 9ms/step - loss: 5.8276 - mae: 6.3090\n",
            "Epoch 19/100\n",
            "31/31 [==============================] - 0s 9ms/step - loss: 5.7135 - mae: 6.1962\n",
            "Epoch 20/100\n",
            "31/31 [==============================] - 0s 9ms/step - loss: 5.6850 - mae: 6.1629\n",
            "Epoch 21/100\n",
            "31/31 [==============================] - 0s 9ms/step - loss: 5.6536 - mae: 6.1341\n",
            "Epoch 22/100\n",
            "31/31 [==============================] - 0s 9ms/step - loss: 5.6917 - mae: 6.1734\n",
            "Epoch 23/100\n",
            "31/31 [==============================] - 0s 9ms/step - loss: 5.6585 - mae: 6.1394\n",
            "Epoch 24/100\n",
            "31/31 [==============================] - 0s 9ms/step - loss: 5.5427 - mae: 6.0205\n",
            "Epoch 25/100\n",
            "31/31 [==============================] - 0s 9ms/step - loss: 5.5315 - mae: 6.0099\n",
            "Epoch 26/100\n",
            "31/31 [==============================] - 0s 9ms/step - loss: 5.6496 - mae: 6.1278\n",
            "Epoch 27/100\n",
            "31/31 [==============================] - 0s 9ms/step - loss: 5.4877 - mae: 5.9676\n",
            "Epoch 28/100\n",
            "31/31 [==============================] - 0s 9ms/step - loss: 5.4613 - mae: 5.9375\n",
            "Epoch 29/100\n",
            "31/31 [==============================] - 0s 9ms/step - loss: 5.4468 - mae: 5.9248\n",
            "Epoch 30/100\n",
            "31/31 [==============================] - 0s 9ms/step - loss: 5.5187 - mae: 5.9980\n",
            "Epoch 31/100\n",
            "31/31 [==============================] - 0s 9ms/step - loss: 5.3888 - mae: 5.8612\n",
            "Epoch 32/100\n",
            "31/31 [==============================] - 0s 9ms/step - loss: 5.4239 - mae: 5.9009\n",
            "Epoch 33/100\n",
            "31/31 [==============================] - 0s 9ms/step - loss: 5.3276 - mae: 5.8032\n",
            "Epoch 34/100\n",
            "31/31 [==============================] - 0s 9ms/step - loss: 5.3318 - mae: 5.8117\n",
            "Epoch 35/100\n",
            "31/31 [==============================] - 0s 10ms/step - loss: 5.3116 - mae: 5.7898\n",
            "Epoch 36/100\n",
            "31/31 [==============================] - 0s 9ms/step - loss: 5.2865 - mae: 5.7631\n",
            "Epoch 37/100\n",
            "31/31 [==============================] - 0s 8ms/step - loss: 5.2796 - mae: 5.7581\n",
            "Epoch 38/100\n",
            "31/31 [==============================] - 0s 10ms/step - loss: 5.2114 - mae: 5.6871\n",
            "Epoch 39/100\n",
            "31/31 [==============================] - 0s 13ms/step - loss: 5.2183 - mae: 5.6960\n",
            "Epoch 40/100\n",
            "31/31 [==============================] - 1s 25ms/step - loss: 5.2502 - mae: 5.7289\n",
            "Epoch 41/100\n",
            "31/31 [==============================] - 1s 31ms/step - loss: 5.1667 - mae: 5.6410\n",
            "Epoch 42/100\n",
            "31/31 [==============================] - 0s 9ms/step - loss: 5.1257 - mae: 5.6031\n",
            "Epoch 43/100\n",
            "31/31 [==============================] - 0s 9ms/step - loss: 5.1528 - mae: 5.6307\n",
            "Epoch 44/100\n",
            "31/31 [==============================] - 0s 9ms/step - loss: 5.1909 - mae: 5.6713\n",
            "Epoch 45/100\n",
            "31/31 [==============================] - 0s 8ms/step - loss: 5.1679 - mae: 5.6456\n",
            "Epoch 46/100\n",
            "31/31 [==============================] - 0s 9ms/step - loss: 5.0947 - mae: 5.5674\n",
            "Epoch 47/100\n",
            "31/31 [==============================] - 0s 9ms/step - loss: 5.0130 - mae: 5.4910\n",
            "Epoch 48/100\n",
            "31/31 [==============================] - 0s 9ms/step - loss: 5.0069 - mae: 5.4841\n",
            "Epoch 49/100\n",
            "31/31 [==============================] - 0s 9ms/step - loss: 4.9655 - mae: 5.4446\n",
            "Epoch 50/100\n",
            "31/31 [==============================] - 0s 9ms/step - loss: 4.9370 - mae: 5.4138\n",
            "Epoch 51/100\n",
            "31/31 [==============================] - 0s 9ms/step - loss: 4.9624 - mae: 5.4377\n",
            "Epoch 52/100\n",
            "31/31 [==============================] - 0s 8ms/step - loss: 4.9771 - mae: 5.4531\n",
            "Epoch 53/100\n",
            "31/31 [==============================] - 0s 9ms/step - loss: 4.9197 - mae: 5.3935\n",
            "Epoch 54/100\n",
            "31/31 [==============================] - 0s 9ms/step - loss: 4.9826 - mae: 5.4599\n",
            "Epoch 55/100\n",
            "31/31 [==============================] - 0s 9ms/step - loss: 4.8738 - mae: 5.3443\n",
            "Epoch 56/100\n",
            "31/31 [==============================] - 0s 9ms/step - loss: 4.8724 - mae: 5.3469\n",
            "Epoch 57/100\n",
            "31/31 [==============================] - 0s 9ms/step - loss: 4.8732 - mae: 5.3497\n",
            "Epoch 58/100\n",
            "31/31 [==============================] - 0s 9ms/step - loss: 4.8235 - mae: 5.2976\n",
            "Epoch 59/100\n",
            "31/31 [==============================] - 0s 9ms/step - loss: 4.8289 - mae: 5.3058\n",
            "Epoch 60/100\n",
            "31/31 [==============================] - 0s 9ms/step - loss: 4.9015 - mae: 5.3793\n",
            "Epoch 61/100\n",
            "31/31 [==============================] - 0s 9ms/step - loss: 4.8422 - mae: 5.3180\n",
            "Epoch 62/100\n",
            "31/31 [==============================] - 0s 9ms/step - loss: 4.8273 - mae: 5.3041\n",
            "Epoch 63/100\n",
            "31/31 [==============================] - 0s 9ms/step - loss: 4.7798 - mae: 5.2519\n",
            "Epoch 64/100\n",
            "31/31 [==============================] - 0s 9ms/step - loss: 4.7891 - mae: 5.2685\n",
            "Epoch 65/100\n",
            "31/31 [==============================] - 0s 12ms/step - loss: 4.7705 - mae: 5.2440\n",
            "Epoch 66/100\n",
            "31/31 [==============================] - 1s 12ms/step - loss: 4.7659 - mae: 5.2421\n",
            "Epoch 67/100\n",
            "31/31 [==============================] - 1s 14ms/step - loss: 4.8410 - mae: 5.3137\n",
            "Epoch 68/100\n",
            "31/31 [==============================] - 1s 14ms/step - loss: 4.8369 - mae: 5.3093\n",
            "Epoch 69/100\n",
            "31/31 [==============================] - 0s 9ms/step - loss: 4.7750 - mae: 5.2512\n",
            "Epoch 70/100\n",
            "31/31 [==============================] - 0s 8ms/step - loss: 4.7117 - mae: 5.1874\n",
            "Epoch 71/100\n",
            "31/31 [==============================] - 0s 9ms/step - loss: 4.8896 - mae: 5.3672\n",
            "Epoch 72/100\n",
            "31/31 [==============================] - 0s 9ms/step - loss: 4.8081 - mae: 5.2840\n",
            "Epoch 73/100\n",
            "31/31 [==============================] - 0s 9ms/step - loss: 4.7923 - mae: 5.2719\n",
            "Epoch 74/100\n",
            "31/31 [==============================] - 0s 9ms/step - loss: 4.7468 - mae: 5.2262\n",
            "Epoch 75/100\n",
            "31/31 [==============================] - 0s 9ms/step - loss: 4.7085 - mae: 5.1827\n",
            "Epoch 76/100\n",
            "31/31 [==============================] - 0s 9ms/step - loss: 4.8021 - mae: 5.2779\n",
            "Epoch 77/100\n",
            "31/31 [==============================] - 0s 9ms/step - loss: 4.6972 - mae: 5.1740\n",
            "Epoch 78/100\n",
            "31/31 [==============================] - 0s 9ms/step - loss: 4.7197 - mae: 5.1928\n",
            "Epoch 79/100\n",
            "31/31 [==============================] - 0s 9ms/step - loss: 4.6660 - mae: 5.1412\n",
            "Epoch 80/100\n",
            "31/31 [==============================] - 0s 9ms/step - loss: 4.7212 - mae: 5.1972\n",
            "Epoch 81/100\n",
            "31/31 [==============================] - 0s 9ms/step - loss: 4.8586 - mae: 5.3338\n",
            "Epoch 82/100\n",
            "31/31 [==============================] - 0s 9ms/step - loss: 4.6907 - mae: 5.1654\n",
            "Epoch 83/100\n",
            "31/31 [==============================] - 0s 9ms/step - loss: 4.6303 - mae: 5.1043\n",
            "Epoch 84/100\n",
            "31/31 [==============================] - 0s 9ms/step - loss: 4.7367 - mae: 5.2152\n",
            "Epoch 85/100\n",
            "31/31 [==============================] - 0s 8ms/step - loss: 4.6806 - mae: 5.1572\n",
            "Epoch 86/100\n",
            "31/31 [==============================] - 0s 9ms/step - loss: 4.7608 - mae: 5.2396\n",
            "Epoch 87/100\n",
            "31/31 [==============================] - 0s 9ms/step - loss: 4.6224 - mae: 5.0972\n",
            "Epoch 88/100\n",
            "31/31 [==============================] - 0s 9ms/step - loss: 4.5942 - mae: 5.0734\n",
            "Epoch 89/100\n",
            "31/31 [==============================] - 0s 9ms/step - loss: 4.7020 - mae: 5.1790\n",
            "Epoch 90/100\n",
            "31/31 [==============================] - 0s 9ms/step - loss: 4.6065 - mae: 5.0832\n",
            "Epoch 91/100\n",
            "31/31 [==============================] - 1s 13ms/step - loss: 4.5855 - mae: 5.0597\n",
            "Epoch 92/100\n",
            "31/31 [==============================] - 1s 13ms/step - loss: 4.5967 - mae: 5.0730\n",
            "Epoch 93/100\n",
            "31/31 [==============================] - 1s 13ms/step - loss: 4.5876 - mae: 5.0640\n",
            "Epoch 94/100\n",
            "31/31 [==============================] - 1s 13ms/step - loss: 4.6012 - mae: 5.0782\n",
            "Epoch 95/100\n",
            "31/31 [==============================] - 0s 9ms/step - loss: 4.6252 - mae: 5.0982\n",
            "Epoch 96/100\n",
            "31/31 [==============================] - 0s 10ms/step - loss: 4.5697 - mae: 5.0469\n",
            "Epoch 97/100\n",
            "31/31 [==============================] - 0s 10ms/step - loss: 4.5917 - mae: 5.0640\n",
            "Epoch 98/100\n",
            "31/31 [==============================] - 0s 9ms/step - loss: 4.6057 - mae: 5.0812\n",
            "Epoch 99/100\n",
            "31/31 [==============================] - 0s 9ms/step - loss: 4.5725 - mae: 5.0495\n",
            "Epoch 100/100\n",
            "31/31 [==============================] - 0s 9ms/step - loss: 4.5731 - mae: 5.0460\n"
          ]
        }
      ],
      "source": [
        "# Reset states generated by Keras\n",
        "tf.keras.backend.clear_session()\n",
        "\n",
        "# Build the model\n",
        "model = tf.keras.models.Sequential([\n",
        "  tf.keras.layers.Lambda(lambda x: tf.expand_dims(x, axis=-1),\n",
        "                      input_shape=[None]),\n",
        "   tf.keras.layers.Bidirectional(tf.keras.layers.LSTM(32, return_sequences=True)),\n",
        "  tf.keras.layers.Bidirectional(tf.keras.layers.LSTM(32)),\n",
        "  tf.keras.layers.Dense(1),\n",
        "  tf.keras.layers.Lambda(lambda x: x * 100.0)\n",
        "])\n",
        "\n",
        "# Set the learning rate\n",
        "learning_rate = 2e-6\n",
        "\n",
        "# Set the optimizer \n",
        "optimizer = tf.keras.optimizers.SGD(learning_rate=learning_rate, momentum=0.9)\n",
        "\n",
        "# Set the training parameters\n",
        "model.compile(loss=tf.keras.losses.Huber(),\n",
        "              optimizer=optimizer,\n",
        "              metrics=[\"mae\"])\n",
        "\n",
        "# Train the model\n",
        "history = model.fit(dataset,epochs=100)"
      ]
    },
    {
      "cell_type": "markdown",
      "metadata": {
        "id": "RjP4kbGiI7cw"
      },
      "source": [
        "## Model Prediction\n",
        "\n",
        "You will then generate batches of windows to generate predictions that align with the validation set."
      ]
    },
    {
      "cell_type": "code",
      "execution_count": 12,
      "metadata": {
        "id": "QO8cfKwKBBG6"
      },
      "outputs": [],
      "source": [
        "def model_forecast(model, series, window_size, batch_size):\n",
        "    \"\"\"Uses an input model to generate predictions on data windows\n",
        "\n",
        "    Args:\n",
        "      model (TF Keras Model) - model that accepts data windows\n",
        "      series (array of float) - contains the values of the time series\n",
        "      window_size (int) - the number of time steps to include in the window\n",
        "      batch_size (int) - the batch size\n",
        "\n",
        "    Returns:\n",
        "      forecast (numpy array) - array containing predictions\n",
        "    \"\"\"\n",
        "\n",
        "    # Generate a TF Dataset from the series values\n",
        "    dataset = tf.data.Dataset.from_tensor_slices(series)\n",
        "\n",
        "    # Window the data but only take those with the specified size\n",
        "    dataset = dataset.window(window_size, shift=1, drop_remainder=True)\n",
        "\n",
        "    # Flatten the windows by putting its elements in a single batch\n",
        "    dataset = dataset.flat_map(lambda w: w.batch(window_size))\n",
        "    \n",
        "    # Create batches of windows\n",
        "    dataset = dataset.batch(batch_size).prefetch(1)\n",
        "    \n",
        "    # Get predictions on the entire dataset\n",
        "    forecast = model.predict(dataset)\n",
        "    \n",
        "    return forecast"
      ]
    },
    {
      "cell_type": "code",
      "execution_count": 13,
      "metadata": {
        "id": "_plB3UseBD8o",
        "colab": {
          "base_uri": "https://localhost:8080/",
          "height": 559
        },
        "outputId": "f8f45f7f-93c2-4c6b-8582-5235e3e9847c"
      },
      "outputs": [
        {
          "output_type": "stream",
          "name": "stdout",
          "text": [
            "15/15 [==============================] - 1s 7ms/step\n"
          ]
        },
        {
          "output_type": "display_data",
          "data": {
            "text/plain": [
              "<Figure size 1000x600 with 1 Axes>"
            ],
            "image/png": "[encoded data removed]"
          },
          "metadata": {}
        }
      ],
      "source": [
        "# Reduce the original series\n",
        "forecast_series = series[split_time-window_size:-1]\n",
        "\n",
        "# Use helper function to generate predictions\n",
        "forecast = model_forecast(model, forecast_series, window_size, batch_size)\n",
        "\n",
        "# Drop single dimensional axis\n",
        "results = forecast.squeeze()\n",
        "\n",
        "# Plot the results\n",
        "plot_series(time_valid, (x_valid, results))"
      ]
    },
    {
      "cell_type": "markdown",
      "metadata": {
        "id": "Nn8iSQkZtaRC"
      },
      "source": [
        "You can then generate the metrics to evaluate the model's performance."
      ]
    },
    {
      "cell_type": "code",
      "execution_count": 14,
      "metadata": {
        "id": "-IKhueZaBGID",
        "colab": {
          "base_uri": "https://localhost:8080/"
        },
        "outputId": "7852a207-776d-48fc-bb19-526133818eb2"
      },
      "outputs": [
        {
          "output_type": "stream",
          "name": "stdout",
          "text": [
            "71.7184\n",
            "5.9844313\n"
          ]
        }
      ],
      "source": [
        "# Compute the MSE and MAE\n",
        "print(tf.keras.metrics.mean_squared_error(x_valid, results).numpy())\n",
        "print(tf.keras.metrics.mean_absolute_error(x_valid, results).numpy())"
      ]
    },
    {
      "cell_type": "markdown",
      "metadata": {
        "id": "bzPIqeMWvbPy"
      },
      "source": [
        "## Wrap Up\n",
        "\n",
        "This concludes this short exercise on using LSTMs for time series forecasting. Next week, you will build upon this and add convolutions. Then, you will start to move away from synthetic data and use real-world datasets. See you there!"
      ]
    },
    {
      "cell_type": "markdown",
      "metadata": {
        "id": "U5PqTePGHeMH"
      },
      "source": [
        "## Optional: Including a Validation Set while Training\n",
        "\n",
        "Back in the first course of this specialization, you saw how you can also monitor the performance of your model against a validation set while training. You can also do that for this lab. \n",
        "\n",
        "First, you need to generate a `val_set` which are data windows and labels that your model can accept. You can simply reuse the `windowed_dataset` function for that and you can pass in the `x_valid` points to generate the windows."
      ]
    },
    {
      "cell_type": "code",
      "execution_count": 15,
      "metadata": {
        "id": "kvFVwL3PC4iX"
      },
      "outputs": [],
      "source": [
        "# Generate data windows of the validation set\n",
        "val_set = windowed_dataset(x_valid, window_size, batch_size, shuffle_buffer_size)"
      ]
    },
    {
      "cell_type": "markdown",
      "metadata": {
        "id": "p68j6XxEvP9K"
      },
      "source": [
        "You can then do the same training as before but pass in the `val_set` to the `validation_data` parameter of the `fit()` method."
      ]
    },
    {
      "cell_type": "code",
      "execution_count": 16,
      "metadata": {
        "id": "wujKz6tXDSn0",
        "colab": {
          "base_uri": "https://localhost:8080/"
        },
        "outputId": "87eed8c8-901e-4bef-cf5b-a1dfdefd8108"
      },
      "outputs": [
        {
          "output_type": "stream",
          "name": "stdout",
          "text": [
            "Epoch 1/100\n",
            "31/31 [==============================] - 9s 75ms/step - loss: 9.9173 - mae: 10.4063 - val_loss: 18.1235 - val_mae: 18.6194\n",
            "Epoch 2/100\n",
            "31/31 [==============================] - 0s 13ms/step - loss: 7.1820 - mae: 7.6668 - val_loss: 11.7948 - val_mae: 12.2898\n",
            "Epoch 3/100\n",
            "31/31 [==============================] - 0s 12ms/step - loss: 6.5196 - mae: 7.0033 - val_loss: 11.3206 - val_mae: 11.8119\n",
            "Epoch 4/100\n",
            "31/31 [==============================] - 1s 13ms/step - loss: 6.2167 - mae: 6.6996 - val_loss: 10.9867 - val_mae: 11.4772\n",
            "Epoch 5/100\n",
            "31/31 [==============================] - 0s 12ms/step - loss: 5.9940 - mae: 6.4768 - val_loss: 9.2936 - val_mae: 9.7829\n",
            "Epoch 6/100\n",
            "31/31 [==============================] - 1s 13ms/step - loss: 5.7830 - mae: 6.2633 - val_loss: 8.5334 - val_mae: 9.0181\n",
            "Epoch 7/100\n",
            "31/31 [==============================] - 0s 13ms/step - loss: 5.7748 - mae: 6.2520 - val_loss: 8.7175 - val_mae: 9.2050\n",
            "Epoch 8/100\n",
            "31/31 [==============================] - 1s 13ms/step - loss: 5.6227 - mae: 6.0997 - val_loss: 8.9257 - val_mae: 9.4170\n",
            "Epoch 9/100\n",
            "31/31 [==============================] - 0s 13ms/step - loss: 5.4563 - mae: 5.9309 - val_loss: 7.7920 - val_mae: 8.2747\n",
            "Epoch 10/100\n",
            "31/31 [==============================] - 0s 13ms/step - loss: 5.4184 - mae: 5.8976 - val_loss: 7.3475 - val_mae: 7.8333\n",
            "Epoch 11/100\n",
            "31/31 [==============================] - 0s 13ms/step - loss: 5.3289 - mae: 5.8089 - val_loss: 8.0674 - val_mae: 8.5545\n",
            "Epoch 12/100\n",
            "31/31 [==============================] - 1s 13ms/step - loss: 5.3481 - mae: 5.8306 - val_loss: 8.9676 - val_mae: 9.4590\n",
            "Epoch 13/100\n",
            "31/31 [==============================] - 0s 13ms/step - loss: 5.2196 - mae: 5.7001 - val_loss: 7.1733 - val_mae: 7.6608\n",
            "Epoch 14/100\n",
            "31/31 [==============================] - 0s 13ms/step - loss: 5.1152 - mae: 5.5918 - val_loss: 7.9599 - val_mae: 8.4477\n",
            "Epoch 15/100\n",
            "31/31 [==============================] - 1s 13ms/step - loss: 5.0981 - mae: 5.5707 - val_loss: 7.4178 - val_mae: 7.9029\n",
            "Epoch 16/100\n",
            "31/31 [==============================] - 0s 13ms/step - loss: 5.0101 - mae: 5.4841 - val_loss: 6.1566 - val_mae: 6.6418\n",
            "Epoch 17/100\n",
            "31/31 [==============================] - 1s 15ms/step - loss: 5.3873 - mae: 5.8662 - val_loss: 7.9604 - val_mae: 8.4456\n",
            "Epoch 18/100\n",
            "31/31 [==============================] - 1s 23ms/step - loss: 5.1782 - mae: 5.6584 - val_loss: 7.2808 - val_mae: 7.7676\n",
            "Epoch 19/100\n",
            "31/31 [==============================] - 1s 23ms/step - loss: 5.0237 - mae: 5.5033 - val_loss: 6.0016 - val_mae: 6.4847\n",
            "Epoch 20/100\n",
            "31/31 [==============================] - 1s 12ms/step - loss: 5.0296 - mae: 5.5080 - val_loss: 6.8391 - val_mae: 7.3221\n",
            "Epoch 21/100\n",
            "31/31 [==============================] - 0s 13ms/step - loss: 4.9829 - mae: 5.4643 - val_loss: 5.9657 - val_mae: 6.4516\n",
            "Epoch 22/100\n",
            "31/31 [==============================] - 0s 12ms/step - loss: 4.9792 - mae: 5.4568 - val_loss: 6.2018 - val_mae: 6.6837\n",
            "Epoch 23/100\n",
            "31/31 [==============================] - 1s 14ms/step - loss: 4.9579 - mae: 5.4331 - val_loss: 7.0389 - val_mae: 7.5222\n",
            "Epoch 24/100\n",
            "31/31 [==============================] - 0s 13ms/step - loss: 5.0347 - mae: 5.5142 - val_loss: 5.7648 - val_mae: 6.2457\n",
            "Epoch 25/100\n",
            "31/31 [==============================] - 0s 12ms/step - loss: 4.9536 - mae: 5.4329 - val_loss: 8.1713 - val_mae: 8.6568\n",
            "Epoch 26/100\n",
            "31/31 [==============================] - 1s 13ms/step - loss: 4.9465 - mae: 5.4240 - val_loss: 5.9550 - val_mae: 6.4411\n",
            "Epoch 27/100\n",
            "31/31 [==============================] - 1s 14ms/step - loss: 4.8851 - mae: 5.3624 - val_loss: 6.2495 - val_mae: 6.7336\n",
            "Epoch 28/100\n",
            "31/31 [==============================] - 0s 13ms/step - loss: 4.8268 - mae: 5.3072 - val_loss: 6.6010 - val_mae: 7.0825\n",
            "Epoch 29/100\n",
            "31/31 [==============================] - 1s 13ms/step - loss: 5.0357 - mae: 5.5157 - val_loss: 5.9069 - val_mae: 6.3930\n",
            "Epoch 30/100\n",
            "31/31 [==============================] - 0s 13ms/step - loss: 4.8222 - mae: 5.2938 - val_loss: 5.7971 - val_mae: 6.2774\n",
            "Epoch 31/100\n",
            "31/31 [==============================] - 1s 13ms/step - loss: 4.9000 - mae: 5.3768 - val_loss: 6.3939 - val_mae: 6.8749\n",
            "Epoch 32/100\n",
            "31/31 [==============================] - 1s 14ms/step - loss: 4.7987 - mae: 5.2755 - val_loss: 6.0881 - val_mae: 6.5714\n",
            "Epoch 33/100\n",
            "31/31 [==============================] - 1s 15ms/step - loss: 4.7439 - mae: 5.2165 - val_loss: 6.2558 - val_mae: 6.7374\n",
            "Epoch 34/100\n",
            "31/31 [==============================] - 0s 13ms/step - loss: 4.8057 - mae: 5.2800 - val_loss: 6.2051 - val_mae: 6.6870\n",
            "Epoch 35/100\n",
            "31/31 [==============================] - 1s 13ms/step - loss: 4.7317 - mae: 5.2072 - val_loss: 5.5439 - val_mae: 6.0220\n",
            "Epoch 36/100\n",
            "31/31 [==============================] - 1s 13ms/step - loss: 4.7840 - mae: 5.2610 - val_loss: 5.5699 - val_mae: 6.0506\n",
            "Epoch 37/100\n",
            "31/31 [==============================] - 1s 13ms/step - loss: 4.7291 - mae: 5.2028 - val_loss: 6.3254 - val_mae: 6.8065\n",
            "Epoch 38/100\n",
            "31/31 [==============================] - 1s 21ms/step - loss: 4.8964 - mae: 5.3757 - val_loss: 5.5017 - val_mae: 5.9809\n",
            "Epoch 39/100\n",
            "31/31 [==============================] - 1s 23ms/step - loss: 4.8906 - mae: 5.3653 - val_loss: 8.1504 - val_mae: 8.6391\n",
            "Epoch 40/100\n",
            "31/31 [==============================] - 1s 19ms/step - loss: 4.9509 - mae: 5.4300 - val_loss: 7.3651 - val_mae: 7.8489\n",
            "Epoch 41/100\n",
            "31/31 [==============================] - 1s 13ms/step - loss: 4.7935 - mae: 5.2711 - val_loss: 6.2386 - val_mae: 6.7189\n",
            "Epoch 42/100\n",
            "31/31 [==============================] - 1s 13ms/step - loss: 4.6885 - mae: 5.1671 - val_loss: 5.8040 - val_mae: 6.2884\n",
            "Epoch 43/100\n",
            "31/31 [==============================] - 1s 13ms/step - loss: 5.0709 - mae: 5.5513 - val_loss: 5.5593 - val_mae: 6.0401\n",
            "Epoch 44/100\n",
            "31/31 [==============================] - 1s 14ms/step - loss: 4.7303 - mae: 5.2043 - val_loss: 5.4734 - val_mae: 5.9508\n",
            "Epoch 45/100\n",
            "31/31 [==============================] - 0s 13ms/step - loss: 4.7841 - mae: 5.2580 - val_loss: 5.4666 - val_mae: 5.9444\n",
            "Epoch 46/100\n",
            "31/31 [==============================] - 0s 13ms/step - loss: 4.8676 - mae: 5.3423 - val_loss: 5.9458 - val_mae: 6.4276\n",
            "Epoch 47/100\n",
            "31/31 [==============================] - 0s 12ms/step - loss: 4.7555 - mae: 5.2325 - val_loss: 5.8847 - val_mae: 6.3674\n",
            "Epoch 48/100\n",
            "31/31 [==============================] - 1s 13ms/step - loss: 4.7577 - mae: 5.2381 - val_loss: 8.1038 - val_mae: 8.5940\n",
            "Epoch 49/100\n",
            "31/31 [==============================] - 1s 14ms/step - loss: 4.8071 - mae: 5.2853 - val_loss: 6.7886 - val_mae: 7.2720\n",
            "Epoch 50/100\n",
            "31/31 [==============================] - 0s 13ms/step - loss: 4.6986 - mae: 5.1716 - val_loss: 5.4831 - val_mae: 5.9623\n",
            "Epoch 51/100\n",
            "31/31 [==============================] - 0s 13ms/step - loss: 4.6528 - mae: 5.1305 - val_loss: 5.7689 - val_mae: 6.2533\n",
            "Epoch 52/100\n",
            "31/31 [==============================] - 0s 13ms/step - loss: 4.6543 - mae: 5.1274 - val_loss: 5.5355 - val_mae: 6.0135\n",
            "Epoch 53/100\n",
            "31/31 [==============================] - 1s 14ms/step - loss: 4.9743 - mae: 5.4555 - val_loss: 5.7065 - val_mae: 6.1926\n",
            "Epoch 54/100\n",
            "31/31 [==============================] - 1s 14ms/step - loss: 4.6684 - mae: 5.1438 - val_loss: 5.4231 - val_mae: 5.9007\n",
            "Epoch 55/100\n",
            "31/31 [==============================] - 0s 13ms/step - loss: 4.6529 - mae: 5.1275 - val_loss: 5.8064 - val_mae: 6.2883\n",
            "Epoch 56/100\n",
            "31/31 [==============================] - 1s 13ms/step - loss: 4.6950 - mae: 5.1729 - val_loss: 6.9475 - val_mae: 7.4309\n",
            "Epoch 57/100\n",
            "31/31 [==============================] - 0s 13ms/step - loss: 4.7498 - mae: 5.2268 - val_loss: 5.6344 - val_mae: 6.1180\n",
            "Epoch 58/100\n",
            "31/31 [==============================] - 1s 13ms/step - loss: 4.5890 - mae: 5.0638 - val_loss: 5.5804 - val_mae: 6.0657\n",
            "Epoch 59/100\n",
            "31/31 [==============================] - 1s 18ms/step - loss: 4.6395 - mae: 5.1153 - val_loss: 5.3009 - val_mae: 5.7746\n",
            "Epoch 60/100\n",
            "31/31 [==============================] - 1s 23ms/step - loss: 4.7792 - mae: 5.2568 - val_loss: 6.0313 - val_mae: 6.5108\n",
            "Epoch 61/100\n",
            "31/31 [==============================] - 1s 16ms/step - loss: 4.6289 - mae: 5.1013 - val_loss: 5.7978 - val_mae: 6.2812\n",
            "Epoch 62/100\n",
            "31/31 [==============================] - 0s 13ms/step - loss: 4.5814 - mae: 5.0554 - val_loss: 6.0346 - val_mae: 6.5150\n",
            "Epoch 63/100\n",
            "31/31 [==============================] - 0s 13ms/step - loss: 4.5549 - mae: 5.0301 - val_loss: 6.2900 - val_mae: 6.7737\n",
            "Epoch 64/100\n",
            "31/31 [==============================] - 0s 13ms/step - loss: 4.6747 - mae: 5.1493 - val_loss: 5.2773 - val_mae: 5.7523\n",
            "Epoch 65/100\n",
            "31/31 [==============================] - 0s 13ms/step - loss: 4.6064 - mae: 5.0804 - val_loss: 5.9457 - val_mae: 6.4257\n",
            "Epoch 66/100\n",
            "31/31 [==============================] - 1s 14ms/step - loss: 4.5795 - mae: 5.0547 - val_loss: 5.8149 - val_mae: 6.2969\n",
            "Epoch 67/100\n",
            "31/31 [==============================] - 0s 12ms/step - loss: 4.5632 - mae: 5.0389 - val_loss: 5.5500 - val_mae: 6.0343\n",
            "Epoch 68/100\n",
            "31/31 [==============================] - 1s 13ms/step - loss: 4.5593 - mae: 5.0337 - val_loss: 5.2525 - val_mae: 5.7307\n",
            "Epoch 69/100\n",
            "31/31 [==============================] - 0s 12ms/step - loss: 4.7726 - mae: 5.2520 - val_loss: 6.7669 - val_mae: 7.2502\n",
            "Epoch 70/100\n",
            "31/31 [==============================] - 0s 13ms/step - loss: 4.6164 - mae: 5.0878 - val_loss: 5.8021 - val_mae: 6.2832\n",
            "Epoch 71/100\n",
            "31/31 [==============================] - 0s 13ms/step - loss: 4.6097 - mae: 5.0843 - val_loss: 5.2343 - val_mae: 5.7129\n",
            "Epoch 72/100\n",
            "31/31 [==============================] - 1s 14ms/step - loss: 4.6171 - mae: 5.0914 - val_loss: 5.5749 - val_mae: 6.0591\n",
            "Epoch 73/100\n",
            "31/31 [==============================] - 0s 13ms/step - loss: 4.5710 - mae: 5.0422 - val_loss: 5.3694 - val_mae: 5.8497\n",
            "Epoch 74/100\n",
            "31/31 [==============================] - 0s 13ms/step - loss: 4.6380 - mae: 5.1160 - val_loss: 5.2956 - val_mae: 5.7706\n",
            "Epoch 75/100\n",
            "31/31 [==============================] - 0s 12ms/step - loss: 4.5572 - mae: 5.0327 - val_loss: 5.6293 - val_mae: 6.1115\n",
            "Epoch 76/100\n",
            "31/31 [==============================] - 0s 13ms/step - loss: 4.6279 - mae: 5.1002 - val_loss: 5.3386 - val_mae: 5.8162\n",
            "Epoch 77/100\n",
            "31/31 [==============================] - 0s 13ms/step - loss: 4.6655 - mae: 5.1413 - val_loss: 5.1838 - val_mae: 5.6569\n",
            "Epoch 78/100\n",
            "31/31 [==============================] - 1s 15ms/step - loss: 4.5380 - mae: 5.0142 - val_loss: 5.6692 - val_mae: 6.1495\n",
            "Epoch 79/100\n",
            "31/31 [==============================] - 1s 17ms/step - loss: 4.5984 - mae: 5.0773 - val_loss: 5.3637 - val_mae: 5.8445\n",
            "Epoch 80/100\n",
            "31/31 [==============================] - 1s 19ms/step - loss: 4.5257 - mae: 5.0050 - val_loss: 5.6356 - val_mae: 6.1154\n",
            "Epoch 81/100\n",
            "31/31 [==============================] - 1s 15ms/step - loss: 4.5235 - mae: 5.0005 - val_loss: 5.3845 - val_mae: 5.8606\n",
            "Epoch 82/100\n",
            "31/31 [==============================] - 1s 14ms/step - loss: 4.5692 - mae: 5.0465 - val_loss: 5.4962 - val_mae: 5.9765\n",
            "Epoch 83/100\n",
            "31/31 [==============================] - 0s 13ms/step - loss: 4.4981 - mae: 4.9710 - val_loss: 5.9413 - val_mae: 6.4217\n",
            "Epoch 84/100\n",
            "31/31 [==============================] - 0s 13ms/step - loss: 4.7571 - mae: 5.2335 - val_loss: 5.1449 - val_mae: 5.6187\n",
            "Epoch 85/100\n",
            "31/31 [==============================] - 0s 13ms/step - loss: 4.7051 - mae: 5.1813 - val_loss: 5.9525 - val_mae: 6.4328\n",
            "Epoch 86/100\n",
            "31/31 [==============================] - 0s 13ms/step - loss: 4.6147 - mae: 5.0898 - val_loss: 5.4174 - val_mae: 5.8959\n",
            "Epoch 87/100\n",
            "31/31 [==============================] - 1s 14ms/step - loss: 4.5762 - mae: 5.0502 - val_loss: 6.0903 - val_mae: 6.5745\n",
            "Epoch 88/100\n",
            "31/31 [==============================] - 0s 13ms/step - loss: 4.5593 - mae: 5.0335 - val_loss: 5.7666 - val_mae: 6.2458\n",
            "Epoch 89/100\n",
            "31/31 [==============================] - 1s 13ms/step - loss: 4.4985 - mae: 4.9739 - val_loss: 5.1074 - val_mae: 5.5805\n",
            "Epoch 90/100\n",
            "31/31 [==============================] - 1s 14ms/step - loss: 4.6435 - mae: 5.1174 - val_loss: 5.6061 - val_mae: 6.0865\n",
            "Epoch 91/100\n",
            "31/31 [==============================] - 0s 12ms/step - loss: 4.6345 - mae: 5.1083 - val_loss: 6.5623 - val_mae: 7.0439\n",
            "Epoch 92/100\n",
            "31/31 [==============================] - 0s 13ms/step - loss: 4.6834 - mae: 5.1603 - val_loss: 5.4005 - val_mae: 5.8818\n",
            "Epoch 93/100\n",
            "31/31 [==============================] - 0s 12ms/step - loss: 4.8242 - mae: 5.3062 - val_loss: 7.1249 - val_mae: 7.6139\n",
            "Epoch 94/100\n",
            "31/31 [==============================] - 0s 13ms/step - loss: 4.5427 - mae: 5.0213 - val_loss: 5.3486 - val_mae: 5.8317\n",
            "Epoch 95/100\n",
            "31/31 [==============================] - 0s 13ms/step - loss: 4.4609 - mae: 4.9374 - val_loss: 7.3221 - val_mae: 7.8078\n",
            "Epoch 96/100\n",
            "31/31 [==============================] - 0s 13ms/step - loss: 4.5995 - mae: 5.0763 - val_loss: 5.3376 - val_mae: 5.8214\n",
            "Epoch 97/100\n",
            "31/31 [==============================] - 1s 14ms/step - loss: 4.4597 - mae: 4.9362 - val_loss: 5.4952 - val_mae: 5.9752\n",
            "Epoch 98/100\n",
            "31/31 [==============================] - 1s 13ms/step - loss: 4.5084 - mae: 4.9835 - val_loss: 5.7167 - val_mae: 6.1946\n",
            "Epoch 99/100\n",
            "31/31 [==============================] - 1s 20ms/step - loss: 4.6376 - mae: 5.1168 - val_loss: 6.8575 - val_mae: 7.3394\n",
            "Epoch 100/100\n",
            "31/31 [==============================] - 1s 23ms/step - loss: 4.6000 - mae: 5.0764 - val_loss: 5.3609 - val_mae: 5.8443\n"
          ]
        }
      ],
      "source": [
        "# Reset states generated by Keras\n",
        "tf.keras.backend.clear_session()\n",
        "\n",
        "# Build the model\n",
        "model = tf.keras.models.Sequential([\n",
        "  tf.keras.layers.Lambda(lambda x: tf.expand_dims(x, axis=-1),\n",
        "                      input_shape=[None]),\n",
        "   tf.keras.layers.Bidirectional(tf.keras.layers.LSTM(32, return_sequences=True)),\n",
        "  tf.keras.layers.Bidirectional(tf.keras.layers.LSTM(32)),\n",
        "  tf.keras.layers.Dense(1),\n",
        "  tf.keras.layers.Lambda(lambda x: x * 100.0)\n",
        "])\n",
        "\n",
        "# Set the learning rate\n",
        "learning_rate = 2e-6\n",
        "\n",
        "# Set the optimizer \n",
        "optimizer = tf.keras.optimizers.SGD(learning_rate=learning_rate, momentum=0.9)\n",
        "\n",
        "# Set the training parameters\n",
        "model.compile(loss=tf.keras.losses.Huber(),\n",
        "              optimizer=optimizer,\n",
        "              metrics=[\"mae\"])\n",
        "\n",
        "# Train the model\n",
        "history = model.fit(dataset,epochs=100, validation_data=val_set)"
      ]
    }
  ],
  "metadata": {
    "accelerator": "GPU",
    "colab": {
      "provenance": [],
      "gpuType": "T4",
      "include_colab_link": true
    },
    "kernelspec": {
      "display_name": "Python 3",
      "language": "python",
      "name": "python3"
    },
    "language_info": {
      "codemirror_mode": {
        "name": "ipython",
        "version": 3
      },
      "file_extension": ".py",
      "mimetype": "text/x-python",
      "name": "python",
      "nbconvert_exporter": "python",
      "pygments_lexer": "ipython3",
      "version": "3.7.4"
    },
    "gpuClass": "standard"
  },
  "nbformat": 4,
  "nbformat_minor": 0
}